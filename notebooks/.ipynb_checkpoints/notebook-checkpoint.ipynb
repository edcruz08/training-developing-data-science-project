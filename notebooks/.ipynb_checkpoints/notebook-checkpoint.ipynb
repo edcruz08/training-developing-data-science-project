{
 "cells": [
  {
   "cell_type": "markdown",
   "metadata": {},
   "source": [
    "# Developing a Data Science Project: Three Key Phases to Successful Data Products\n",
    "\n",
    "By Dr. Phil Winder of [https://WinderResearch.com](https://WinderResearch.com/?utm_source=notebook&utm_campaign=DevelopingADataScienceProject)\n",
    "\n",
    "Hi there! Welcome to this notebook which was originally written to be used with the training of the same name. If you like this then please [visit my website for more](https://WinderResearch.com/?utm_source=notebook&utm_campaign=DevelopingADataScienceProject). Please feel free to [tweet about this](https://twitter.com/intent/tweet?text=I%27m%20learning%20how%20to%20Develop%20a%20Data%20Science%20Project%20with%20%40DrPhilWinder%20of%20https%3A%2F%2FWinderResearch.com%2F%3Futm_source%3Dtwitter%26utm_campaign%3DDevelopingADataScienceProject), [tweet me direct @DrPhilWinder](https://twitter.com/DrPhilWinder), connect on [Linkedin](https://www.linkedin.com/in/DrPhilWinder/) or plain old [email](mailto:phil@WinderResearch.com). If you need professional help, my company [Winder Research](https://WinderResearch.com/?utm_source=notebook&utm_campaign=DevelopingADataScienceProject) can assist.\n",
    "\n",
    "Table of Contents:\n",
    "\n",
    "1. [Visualising Data](#1.-Visualising-Data)\n",
    "2. [Fixing Scales and Categorical Data](#2:-Fixing-Scales-and-Categorical-Data)\n",
    "3. [Model Improvement through Feature Selection](#3:-Model-Improvement-through-Feature-Selection)\n",
    "4. [Dimensionality Reduction](#4.-Dimensionality-Reduction)\n",
    "5. [Classification](#5.-Classification)\n",
    "6. [Regression](#6.-Regression)\n",
    "7. [Clustering](#7.-Clustering)\n",
    "8. [Numerical Model Evaluation](#8.-Numerical-Model-Evaluation)\n",
    "9. [Visual Model Evaluation](#8.-Visual-Model-Evaluation)"
   ]
  },
  {
   "cell_type": "code",
   "execution_count": null,
   "metadata": {},
   "outputs": [],
   "source": [
    "%matplotlib inline\n",
    "import matplotlib\n",
    "import seaborn as sns"
   ]
  },
  {
   "cell_type": "code",
   "execution_count": null,
   "metadata": {},
   "outputs": [],
   "source": [
    "sns.set(style=\"white\")\n",
    "matplotlib.rc('figure', figsize=[12, 5])"
   ]
  },
  {
   "cell_type": "markdown",
   "metadata": {},
   "source": [
    "# 1. Visualising Data\n",
    "\n",
    "This first section is all about visualising your data. In my opinion, manually visualising data is the most important Data Science technique, but also the most underrepresented.\n",
    "\n",
    "Below I concentrate on demonstrating some techniques that will help you pre-process and clean your data."
   ]
  },
  {
   "cell_type": "code",
   "execution_count": null,
   "metadata": {},
   "outputs": [],
   "source": [
    "import pandas as pd\n",
    "import missingno as msno\n",
    "import numpy as np"
   ]
  },
  {
   "cell_type": "code",
   "execution_count": null,
   "metadata": {},
   "outputs": [],
   "source": [
    "url = \"../data/titanic.csv\"\n",
    "titanic = pd.read_csv(url)"
   ]
  },
  {
   "cell_type": "code",
   "execution_count": null,
   "metadata": {},
   "outputs": [],
   "source": [
    "titanic.hist(color='dimgray', layout=(2, 4));"
   ]
  },
  {
   "cell_type": "code",
   "execution_count": null,
   "metadata": {},
   "outputs": [],
   "source": [
    "msno.matrix(titanic.sample(500));"
   ]
  },
  {
   "cell_type": "code",
   "execution_count": null,
   "metadata": {},
   "outputs": [],
   "source": [
    "msno.bar(titanic.sample(500));"
   ]
  },
  {
   "cell_type": "code",
   "execution_count": null,
   "metadata": {},
   "outputs": [],
   "source": [
    "msno.heatmap(titanic);"
   ]
  },
  {
   "cell_type": "code",
   "execution_count": null,
   "metadata": {},
   "outputs": [],
   "source": [
    "pd.plotting.scatter_matrix(titanic, color='dimgray');"
   ]
  },
  {
   "cell_type": "code",
   "execution_count": null,
   "metadata": {},
   "outputs": [],
   "source": [
    "# Compute the correlation matrix\n",
    "corr = titanic.corr()\n",
    "# Generate a mask for the upper triangle\n",
    "mask = np.zeros_like(corr, dtype=np.bool)\n",
    "mask[np.triu_indices_from(mask)] = True\n",
    "# Generate a custom diverging colormap\n",
    "cmap = sns.diverging_palette(220, 10, as_cmap=True)\n",
    "# Draw the heatmap with the mask and correct aspect ratio\n",
    "sns.heatmap(corr, mask=mask, cmap=cmap, vmax=0.8, vmin=-0.8, square=True);"
   ]
  },
  {
   "cell_type": "code",
   "execution_count": null,
   "metadata": {},
   "outputs": [],
   "source": [
    "url = \"../data/nypd-motor-vehicle-collisions.csv\"\n",
    "collisions = pd.read_csv(url)"
   ]
  },
  {
   "cell_type": "markdown",
   "metadata": {},
   "source": [
    "---\n",
    "## Challenge\n",
    "\n",
    "Above is the NYPD collisions dataset that reports the causes of traffic incidents in New York (not to be confused with York) in the USA.\n",
    "\n",
    "- Try plotting some visualisations of this data\n",
    "- What can you tell me about it?"
   ]
  },
  {
   "cell_type": "code",
   "execution_count": null,
   "metadata": {},
   "outputs": [],
   "source": []
  },
  {
   "cell_type": "markdown",
   "metadata": {},
   "source": [
    "---"
   ]
  },
  {
   "cell_type": "markdown",
   "metadata": {},
   "source": [
    "# 2: Fixing Scales and Categorical Data\n",
    "\n",
    "Fixing the scales of data is important to make it as easy as possible for the model. This is a classification example - where I limit the number of training iterations to make the point - that breaks because the scales are so skewed. After min-max scaling the data, the model finds it much easier to iterate towards the result."
   ]
  },
  {
   "cell_type": "code",
   "execution_count": null,
   "metadata": {},
   "outputs": [],
   "source": [
    "import matplotlib.pyplot as plt\n",
    "import pandas as pd\n",
    "import sklearn.preprocessing\n",
    "import sklearn.svm"
   ]
  },
  {
   "cell_type": "code",
   "execution_count": null,
   "metadata": {},
   "outputs": [],
   "source": [
    "# Ignore warnings\n",
    "import warnings\n",
    "warnings.filterwarnings('ignore')"
   ]
  },
  {
   "cell_type": "code",
   "execution_count": null,
   "metadata": {},
   "outputs": [],
   "source": [
    "np.random.seed(42)\n",
    "url = \"../data/titanic.csv\"\n",
    "titanic = pd.read_csv(url)\n",
    "titanic = titanic[['survived', 'fare', 'age']]\n",
    "titanic.dropna(inplace=True)\n",
    "titanic = titanic[(titanic[['fare', 'age']] != 0).all(axis=1)]  # Remove zero fares\n",
    "y = titanic['survived']\n",
    "X = titanic[['fare', 'age']]\n",
    "\n",
    "clf = sklearn.svm.LinearSVC(tol=1e-2, max_iter=10).fit(X, y)\n",
    "xx, yy = np.mgrid[0:600:1, 0:100:1]\n",
    "grid = np.c_[xx.ravel(), yy.ravel()]\n",
    "probs = clf.predict(grid).reshape(xx.shape)\n",
    "score = clf.score(X, y) * 100\n",
    "\n",
    "fig, (ax1, ax2) = plt.subplots(ncols=2)\n",
    "\n",
    "sns.scatterplot(data=X, x='fare', y='age', hue=y, linewidth=0, ax=ax1).set_title(\n",
    "    \"Titanic Survivors - SVM (10 iter) - {:.1f}%\".format(score))\n",
    "ax1.contour(xx, yy, probs, levels=[.5], cmap=\"Greys\", vmin=0, vmax=.6)\n",
    "\n",
    "X[:] = sklearn.preprocessing.MinMaxScaler().fit_transform(X[:])\n",
    "clf = sklearn.svm.LinearSVC(tol=1e-2, max_iter=10).fit(X, y)\n",
    "xx, yy = np.mgrid[0:1:0.001, 0:1:0.001]\n",
    "grid = np.c_[xx.ravel(), yy.ravel()]\n",
    "probs = clf.predict(grid).reshape(xx.shape)\n",
    "score = clf.score(X, y) * 100\n",
    "\n",
    "sns.scatterplot(data=X, x='fare', y='age', hue=y, linewidth=0, ax=ax2).set_title(\n",
    "    \"Titanic Survivors - SVM (10 iter, scaled) - {:.1f}%\".format(score))\n",
    "ax2.contour(xx, yy, probs, levels=[.5], cmap=\"Greys\", vmin=0, vmax=.6);"
   ]
  },
  {
   "cell_type": "code",
   "execution_count": null,
   "metadata": {},
   "outputs": [],
   "source": [
    "s = pd.Series(list('abcaba'))\n",
    "pd.get_dummies(s)"
   ]
  },
  {
   "cell_type": "markdown",
   "metadata": {},
   "source": [
    "Above we're rencoding categorical variables into new features. Now we can pass this data into our standard models."
   ]
  },
  {
   "cell_type": "code",
   "execution_count": null,
   "metadata": {},
   "outputs": [],
   "source": [
    "url = \"../data/titanic.csv\"\n",
    "titanic = pd.read_csv(url)"
   ]
  },
  {
   "cell_type": "code",
   "execution_count": null,
   "metadata": {},
   "outputs": [],
   "source": [
    "X = titanic[['age', 'embarked', 'fare', 'survived']]\n",
    "X = X.dropna()\n",
    "y = X[['survived']]\n",
    "X = X[['age', 'embarked', 'fare']]"
   ]
  },
  {
   "cell_type": "markdown",
   "metadata": {},
   "source": [
    "---\n",
    "## Challenge\n",
    "\n",
    "Above we see the Titanic data again. \n",
    "\n",
    "- Try to recode the `embarked` feature (hint: you can run `get_dummies` directly on the X matrix. Pandas is smart enough not to recode the other features)\n",
    "- (Bonus for advanced users) Then use the features X to predict the label y in a classification model"
   ]
  },
  {
   "cell_type": "code",
   "execution_count": null,
   "metadata": {},
   "outputs": [],
   "source": []
  },
  {
   "cell_type": "markdown",
   "metadata": {},
   "source": [
    "---"
   ]
  },
  {
   "cell_type": "markdown",
   "metadata": {},
   "source": [
    "# 3: Model Improvement through Feature Selection\n",
    "\n",
    "The Decision Tree classifier (and variants of) attempts to segment the data into \"pure\" buckets via simple thresholds. The split that produces the most \"pure\" bucket is deemed to be a good split.\n",
    "\n",
    "We can use this definition of \"good\" to provide some information about how well a single feature is able to split segment the data according to the labels. \"Better\" features will have a higher score.\n",
    "\n",
    "The example below uses the titanic dataset again to demonstrate this."
   ]
  },
  {
   "cell_type": "code",
   "execution_count": null,
   "metadata": {},
   "outputs": [],
   "source": [
    "import pandas as pd\n",
    "import sklearn.tree\n",
    "import numpy as np\n",
    "import matplotlib.pyplot as plt\n",
    "from sklearn.datasets import load_iris"
   ]
  },
  {
   "cell_type": "code",
   "execution_count": null,
   "metadata": {},
   "outputs": [],
   "source": [
    "url = \"../data/titanic.csv\"\n",
    "titanic = pd.read_csv(url)\n",
    "X = titanic[['age', 'fare', 'survived']]\n",
    "X = X.dropna()\n",
    "y = X[['survived']]\n",
    "X = X[['age', 'fare']]"
   ]
  },
  {
   "cell_type": "code",
   "execution_count": null,
   "metadata": {},
   "outputs": [],
   "source": [
    "mdl = sklearn.tree.DecisionTreeClassifier().fit(X, y)"
   ]
  },
  {
   "cell_type": "code",
   "execution_count": null,
   "metadata": {},
   "outputs": [],
   "source": [
    "plt.bar(X.columns, mdl.feature_importances_)\n",
    "plt.gca().set_ylabel('Relative importance');"
   ]
  },
  {
   "cell_type": "markdown",
   "metadata": {},
   "source": [
    "We can see that the `fare` feature is more informative than the `age` parameter.\n",
    "\n",
    "### Brute Force\n",
    "\n",
    "Another thing we can do is iterate over features to find the best combination. Let's use `mlxtend` to implement this for us (and borrow an example)"
   ]
  },
  {
   "cell_type": "code",
   "execution_count": null,
   "metadata": {},
   "outputs": [],
   "source": [
    "!pip install mlxtend > /dev/null"
   ]
  },
  {
   "cell_type": "code",
   "execution_count": null,
   "metadata": {},
   "outputs": [],
   "source": [
    "from mlxtend.feature_selection import SequentialFeatureSelector as SFS\n",
    "from mlxtend.plotting import plot_sequential_feature_selection as plot_sfs\n",
    "from sklearn.neighbors import KNeighborsClassifier\n",
    "from mlxtend.data import wine_data\n",
    "from sklearn.model_selection import train_test_split\n",
    "from sklearn.preprocessing import StandardScaler\n",
    "from sklearn.pipeline import make_pipeline\n",
    "\n",
    "X, y = wine_data()\n",
    "X_train, X_test, y_train, y_test= train_test_split(X, y, \n",
    "                                                   stratify=y,\n",
    "                                                   test_size=0.3,\n",
    "                                                   random_state=1)\n",
    "\n",
    "knn = KNeighborsClassifier(n_neighbors=2)\n",
    "\n",
    "sfs1 = SFS(estimator=knn, \n",
    "           k_features=(3, 10),\n",
    "           forward=True, \n",
    "           floating=False, \n",
    "           scoring='accuracy',\n",
    "           cv=5)\n",
    "\n",
    "pipe = make_pipeline(StandardScaler(), sfs1)\n",
    "\n",
    "pipe.fit(X_train, y_train)\n",
    "\n",
    "print('best combination (ACC: %.3f): %s\\n' % (sfs1.k_score_, sfs1.k_feature_idx_))\n",
    "# print('all subsets:\\n', sfs1.subsets_)\n",
    "plot_sfs(sfs1.get_metric_dict(), kind='std_err');"
   ]
  },
  {
   "cell_type": "code",
   "execution_count": null,
   "metadata": {},
   "outputs": [],
   "source": [
    "iris = load_iris()\n",
    "X = iris.data\n",
    "y = iris.target\n",
    "X_feature_names = iris.feature_names"
   ]
  },
  {
   "cell_type": "markdown",
   "metadata": {},
   "source": [
    "---\n",
    "## Challenge\n",
    "\n",
    "Above is the infamous iris dataset.\n",
    "\n",
    "- Can you tell me which feature is the most informative?"
   ]
  },
  {
   "cell_type": "code",
   "execution_count": null,
   "metadata": {},
   "outputs": [],
   "source": []
  },
  {
   "cell_type": "markdown",
   "metadata": {},
   "source": [
    "---"
   ]
  },
  {
   "cell_type": "markdown",
   "metadata": {},
   "source": [
    "# 4. Dimensionality Reduction\n",
    "\n",
    "This section introduces the practical applications of dimensionality reduction.\n",
    "\n",
    "The first thing you will notice is that it allows us to take a high-dimensional dataset and visualise it in two dimensions. Visualisation is so important and this is one of the main reasons for performing it.\n",
    "\n",
    "Second, you won't notice much here, but when you start using larger datasets with high numbers of dimensions, you will not want to wait all night just to run one train of your algorithm.\n",
    "\n",
    "We've touched on some concepts before (e.g. collinearity) and they crop up again here."
   ]
  },
  {
   "cell_type": "code",
   "execution_count": null,
   "metadata": {},
   "outputs": [],
   "source": [
    "import numpy as np\n",
    "import matplotlib.pyplot as plt\n",
    "from sklearn import decomposition, datasets, linear_model"
   ]
  },
  {
   "cell_type": "code",
   "execution_count": null,
   "metadata": {},
   "outputs": [],
   "source": [
    "iris = datasets.load_iris()\n",
    "X = iris.data\n",
    "y = iris.target"
   ]
  },
  {
   "cell_type": "markdown",
   "metadata": {},
   "source": [
    "## PCA\n",
    "\n",
    "The iris dataset has four components. Let's measure how much each of the four principal components explains the total variance."
   ]
  },
  {
   "cell_type": "code",
   "execution_count": null,
   "metadata": {},
   "outputs": [],
   "source": [
    "pca = decomposition.PCA(n_components=4)\n",
    "pca.fit(X)\n",
    "pca.explained_variance_ratio_"
   ]
  },
  {
   "cell_type": "markdown",
   "metadata": {},
   "source": [
    "The first component explains a whopping 92% of the variance. Most rules of thumb would probably get you to just cut it off there. Let's see what the first PC looks like after transforming the data into the new domain (`.transform` effectively does the dot-product projection for us)"
   ]
  },
  {
   "cell_type": "code",
   "execution_count": null,
   "metadata": {},
   "outputs": [],
   "source": [
    "X_p = pca.transform(X)"
   ]
  },
  {
   "cell_type": "code",
   "execution_count": null,
   "metadata": {},
   "outputs": [],
   "source": [
    "fig = plt.figure(figsize=(5.5,4))\n",
    "plt.title('Histogram of first PC')\n",
    "plt.hist(X_p[y==0, 0], facecolor='k', label=\"Setosa\")\n",
    "plt.hist(X_p[y==1, 0], facecolor='r', label=\"Versicolour\")\n",
    "plt.hist(X_p[y==2, 0], facecolor='c', label=\"Virginica\")\n",
    "plt.legend()\n",
    "plt.show()"
   ]
  },
  {
   "cell_type": "markdown",
   "metadata": {},
   "source": [
    "We can see that Setosa is well separated. The other two are not quite as separated, but appear to show a good normal distribution.\n",
    "\n",
    "Let's take a look at what the second dimesion looks like."
   ]
  },
  {
   "cell_type": "code",
   "execution_count": null,
   "metadata": {},
   "outputs": [],
   "source": [
    "fig = plt.figure()\n",
    "plt.title('Histogram of second PC')\n",
    "plt.hist(X_p[y==0, 1], facecolor='k', label=\"Setosa\")\n",
    "plt.hist(X_p[y==1, 1], facecolor='r', label=\"Versicolour\")\n",
    "plt.hist(X_p[y==2, 1], facecolor='c', label=\"Virginica\")\n",
    "plt.legend()\n",
    "plt.show()"
   ]
  },
  {
   "cell_type": "markdown",
   "metadata": {},
   "source": [
    "Notice how little variance this second dimension shows compared to the first. (I.e. look at the min/max of the first plot and compare to this).\n",
    "\n",
    "Generally you will find that the components with more variance generally have better class separation (because the high variance is accounted by the class separation, not the variance of each class)\n",
    "\n",
    "If you look below, the third looks even worse."
   ]
  },
  {
   "cell_type": "code",
   "execution_count": null,
   "metadata": {},
   "outputs": [],
   "source": [
    "fig = plt.figure()\n",
    "plt.title('Histogram of third PC')\n",
    "plt.hist(X_p[y==0, 2], facecolor='k', label=\"Setosa\")\n",
    "plt.hist(X_p[y==1, 2], facecolor='r', label=\"Versicolour\")\n",
    "plt.hist(X_p[y==2, 2], facecolor='c', label=\"Virginica\")\n",
    "plt.legend()\n",
    "plt.show()"
   ]
  },
  {
   "cell_type": "markdown",
   "metadata": {},
   "source": [
    "Now let's take a look at the data in two dimensions."
   ]
  },
  {
   "cell_type": "code",
   "execution_count": null,
   "metadata": {},
   "outputs": [],
   "source": [
    "fig = plt.figure(figsize=(5.5,4))\n",
    "plt.title('Scatter plot of the first two dimensions of the iris dataset')\n",
    "plt.scatter(X_p[y==0, 0], X_p[y==0, 1], c='k', label=\"Setosa\")\n",
    "plt.scatter(X_p[y==1, 0], X_p[y==1, 1], c='r', label=\"Versicolour\")\n",
    "plt.scatter(X_p[y==2, 0], X_p[y==2, 1], c='c', label=\"Virginica\")\n",
    "plt.legend()\n",
    "plt.show()"
   ]
  },
  {
   "cell_type": "markdown",
   "metadata": {},
   "source": [
    "Again, you can see that there is a large variance in the first (x) dimension, a range of +/- 4, whereas the second dimension (y) only has +/- 1."
   ]
  },
  {
   "cell_type": "markdown",
   "metadata": {},
   "source": [
    "### PCA with Classification\n",
    "\n",
    "Now we will:\n",
    "\n",
    "- Using a logistic classifier, classify the iris dataset\n",
    "- Calculate the accuracy score (or score of your choice)\n",
    "- Now perform PCA and reduce to a single component. Repeat the classification and scoring.\n",
    "- How much different is the result? Is it significant?"
   ]
  },
  {
   "cell_type": "code",
   "execution_count": null,
   "metadata": {},
   "outputs": [],
   "source": [
    "mdl = linear_model.LogisticRegression()\n",
    "print(\"No PCA accuracy:\", mdl.fit(X, y).score(X, y))"
   ]
  },
  {
   "cell_type": "code",
   "execution_count": null,
   "metadata": {},
   "outputs": [],
   "source": [
    "mdl = linear_model.LogisticRegression()\n",
    "print(\"With PCA (first componennt) accuracy:\", mdl.fit(X_p[:,0].reshape(150,1), y).score(X_p[:,0].reshape(150,1), y))"
   ]
  },
  {
   "cell_type": "code",
   "execution_count": null,
   "metadata": {},
   "outputs": [],
   "source": [
    "mdl = linear_model.LogisticRegression()\n",
    "print(\"With PCA (two components) accuracy:\", mdl.fit(X_p[:,0:1], y).score(X_p[:,0:1], y))"
   ]
  },
  {
   "cell_type": "markdown",
   "metadata": {},
   "source": [
    "You can see that we have marginally reduced accuracy. Often, people like to reduce the number of dimensions to 2 or 3 for plotting, then increase it back up for actual classification.\n",
    "\n",
    "This becomes a compromise between simplicity/performance and accuracy."
   ]
  },
  {
   "cell_type": "code",
   "execution_count": null,
   "metadata": {},
   "outputs": [],
   "source": [
    "wine = datasets.load_wine()\n",
    "X = wine.data\n",
    "y = wine.target"
   ]
  },
  {
   "cell_type": "markdown",
   "metadata": {},
   "source": [
    "---\n",
    "## Challenge\n",
    "\n",
    "Above is the slightly more complex wine dataset. \n",
    "\n",
    "- How much of the variance is represented by the first principal component?\n",
    "- (Bonus) Plot the first principal component"
   ]
  },
  {
   "cell_type": "code",
   "execution_count": null,
   "metadata": {},
   "outputs": [],
   "source": []
  },
  {
   "cell_type": "code",
   "execution_count": null,
   "metadata": {},
   "outputs": [],
   "source": [
    "X_p = pca.transform(X)"
   ]
  },
  {
   "cell_type": "code",
   "execution_count": null,
   "metadata": {},
   "outputs": [],
   "source": [
    "fig = plt.figure(figsize=(5.5,4))\n",
    "plt.title('Histogram of first PC')\n",
    "plt.hist(X_p[y==0, 0], facecolor='k', label=\"Class 0\")\n",
    "plt.hist(X_p[y==1, 0], facecolor='r', label=\"Class 1\")\n",
    "plt.hist(X_p[y==2, 0], facecolor='c', label=\"Class 2\")\n",
    "plt.legend()\n",
    "plt.show()"
   ]
  },
  {
   "cell_type": "markdown",
   "metadata": {},
   "source": [
    "---"
   ]
  },
  {
   "cell_type": "markdown",
   "metadata": {},
   "source": [
    "# 5. Classification\n",
    "\n",
    "This section introduces classification, the task of attempting to predict which class an observation belongs to. Usually there are significantly less classes than observations, because the models need lots of examples to learn from.\n",
    "\n",
    "There are tens of core types of classification model, possibly hundreds of known variations. They are all trying to place a decision boundary within the dimensions of your data to separate the classes.\n",
    "\n",
    "Generally speaking, you want to pick the simplest model you can to solve your problem. In these examples we will use a Decision Tree. They are very simple to undertand and perform remarkably well in most situations.\n",
    "\n",
    "We'll have a look at a complex dataset first, then you can look at the oranges and apples dataset."
   ]
  },
  {
   "cell_type": "code",
   "execution_count": null,
   "metadata": {},
   "outputs": [],
   "source": [
    "import matplotlib.pyplot as plt\n",
    "import pandas as pd\n",
    "import seaborn as sns\n",
    "import sklearn.tree\n",
    "from sklearn.model_selection import train_test_split"
   ]
  },
  {
   "cell_type": "code",
   "execution_count": null,
   "metadata": {},
   "outputs": [],
   "source": [
    "url = \"../data/cereal.csv\"\n",
    "cereal = pd.read_csv(url)"
   ]
  },
  {
   "cell_type": "code",
   "execution_count": null,
   "metadata": {},
   "outputs": [],
   "source": [
    "print(cereal.columns)\n",
    "cereal"
   ]
  },
  {
   "cell_type": "code",
   "execution_count": null,
   "metadata": {},
   "outputs": [],
   "source": [
    "X = cereal[['potass','rating']]\n",
    "mfrs = cereal.mfr.astype('category')\n",
    "y = mfrs.cat.codes\n",
    "print(\"There are {} manufacturers in this dataset.\".format(len(set(y))))"
   ]
  },
  {
   "cell_type": "code",
   "execution_count": null,
   "metadata": {},
   "outputs": [],
   "source": [
    "# Create a decision tree classifier and train\n",
    "clf = sklearn.tree.DecisionTreeClassifier().fit(X, y)"
   ]
  },
  {
   "cell_type": "code",
   "execution_count": null,
   "metadata": {},
   "outputs": [],
   "source": [
    "# Create a mesh grid to see what the prediction would be at all of these points\n",
    "xx, yy = np.mgrid[-50:400:1, 0:100:1]\n",
    "grid = np.c_[xx.ravel(), yy.ravel()]\n",
    "\n",
    "# Get the predictions at each point\n",
    "probs = clf.predict(grid).reshape(xx.shape)\n",
    "\n",
    "# Calculate the accuracy for plotting in the title\n",
    "score = clf.score(X, y) * 100\n",
    "\n",
    "# Plot the decision boundary and the datapoints\n",
    "ax = plt.gca()\n",
    "ax.contourf(xx, yy, probs, cmap=plt.cm.Paired, alpha=0.2)\n",
    "sns.scatterplot(data=X, x='potass', y='rating', hue=mfrs, linewidth=0).set_title(\n",
    "    \"Cereal Classification - Decision Tree - {:.1f}%\".format(score))\n",
    "plt.legend(loc='lower right')\n",
    "plt.show()"
   ]
  },
  {
   "cell_type": "markdown",
   "metadata": {},
   "source": [
    "So both the classifiers above have scored 100%. But all is not as it seems. First, remember that we should be sceptical about 100%. Next, look at how complicated that decision boundary is for the second example.\n",
    "\n",
    "The solution to this is to split the dataset. We split into a training dataset and a testing dataset."
   ]
  },
  {
   "cell_type": "code",
   "execution_count": null,
   "metadata": {},
   "outputs": [],
   "source": [
    "X_train, X_test, y_train, y_test = train_test_split(X, y, test_size=0.33, random_state=42)"
   ]
  },
  {
   "cell_type": "code",
   "execution_count": null,
   "metadata": {},
   "outputs": [],
   "source": [
    "clf = sklearn.tree.DecisionTreeClassifier().fit(X_train, y_train)"
   ]
  },
  {
   "cell_type": "code",
   "execution_count": null,
   "metadata": {},
   "outputs": [],
   "source": [
    "score = clf.score(X_test, y_test) * 100\n",
    "print(\"{:.1f}%\".format(score))"
   ]
  },
  {
   "cell_type": "markdown",
   "metadata": {},
   "source": [
    "Look at that score now! Far lower. There are seven manufacturers here, so randomly picking one would result in a score of 1/7=14%. So we're doing better than random, but certainly not 100%."
   ]
  },
  {
   "cell_type": "code",
   "execution_count": null,
   "metadata": {},
   "outputs": [],
   "source": [
    "# Import some fruit data\n",
    "url = \"../data/fruits.tsv\"\n",
    "fruit = pd.read_csv(url, sep='\\t')\n",
    "\n",
    "# Throw away all data except apples and oranges\n",
    "fruit = fruit.query('(fruit_name == \"apple\") | (fruit_name == \"orange\")')\n",
    "fruit_names = fruit.fruit_name\n",
    "\n",
    "# Throw away all features except mass and color_score\n",
    "X = fruit[['mass', 'color_score']]\n",
    "y = fruit.fruit_label\n",
    "# Recode the orange label (a `3`) to a 1 so we have 0=apple, 1=orange\n",
    "y = y.replace(3, 0)"
   ]
  },
  {
   "cell_type": "markdown",
   "metadata": {},
   "source": [
    "---\n",
    "\n",
    "## Challenge\n",
    "\n",
    "Can you now try and classifiy the orange and apples dataset yourself?\n",
    "\n",
    "- Only get the \"score\" to keep this quick and simple. Don't worry about plotting right now.\n",
    "- Try with and without a train test split if you have time"
   ]
  },
  {
   "cell_type": "code",
   "execution_count": null,
   "metadata": {},
   "outputs": [],
   "source": []
  },
  {
   "cell_type": "markdown",
   "metadata": {},
   "source": [
    "---"
   ]
  },
  {
   "cell_type": "markdown",
   "metadata": {},
   "source": [
    "# 6. Regression\n",
    "\n",
    "Often I provide examples of standard regression with some sort of model. I.e. drawing the best fit line through a series of points. \n",
    "\n",
    "But this time I'd like to show you about exponential smoothing. This is a useful tool for generating good short-term predictions in a simple way.\n",
    "\n",
    "The simplest form of exponential smoothing would predict an average of the past few values, so only the first prediction would be reasonable. The `Holt` method adds a trend element to the model to attempt to model the trend. This is plotted below. The most advanced \"simple\" method attempts to model the seasonality in the data too, but for this you need to tell the model over what period the seasonality fluctuates."
   ]
  },
  {
   "cell_type": "code",
   "execution_count": null,
   "metadata": {},
   "outputs": [],
   "source": [
    "import pandas as pd\n",
    "import numpy as np\n",
    "import matplotlib.pyplot as plt\n",
    "from statsmodels.tsa.holtwinters import ExponentialSmoothing, SimpleExpSmoothing, Holt\n",
    "\n",
    "url = \"../data/airline-passengers.csv\"\n",
    "airline = pd.read_csv(url, parse_dates=['Month'], index_col='Month')\n",
    "airline.index.freq = 'MS'\n",
    "train, test = airline.iloc[:130, 0], airline.iloc[130:, 0]\n",
    "mdl_holt = Holt(train).fit()\n",
    "mdl_holtwinters = ExponentialSmoothing(train, seasonal='mul', seasonal_periods=12).fit()\n",
    "pred_holt = mdl_holt.predict(start=test.index[0], end=test.index[-1])\n",
    "pred_holtwinters = mdl_holtwinters.predict(start=test.index[0], end=test.index[-1])\n",
    "\n",
    "plt.plot(train.index, train, label='Train')\n",
    "plt.plot(test.index, test, label='Test')\n",
    "plt.plot(pred_holt.index, pred_holt, label='Holt')\n",
    "plt.plot(pred_holtwinters.index, pred_holtwinters, label='Holt-Winters')\n",
    "plt.legend(loc='best')\n",
    "plt.show()"
   ]
  },
  {
   "cell_type": "code",
   "execution_count": null,
   "metadata": {},
   "outputs": [],
   "source": [
    "url = \"../data/sunspots.csv\"\n",
    "sunspots = pd.read_csv(url, parse_dates=['Date'], index_col='Date')\n",
    "sunspots = sunspots[['Monthly Mean Total Sunspot Number']]"
   ]
  },
  {
   "cell_type": "markdown",
   "metadata": {},
   "source": [
    "---\n",
    "\n",
    "## Challenge\n",
    "\n",
    "- Can you make any predictions on this dataset?\n",
    "\n",
    "Hints: This is a bit tricky because the data isn't quite as nice. It is seasonal, but the seasonality isn't quite as clear as the airline data.\n",
    "\n",
    "- First plot the data to get a closer look. (`sunspots.plot()` and `sunspots.iloc[0:300].plot()`)\n",
    "- Next, use the simple exponential smoothing (`Holt`) and plot the result. It should show a straight line from the last point.\n",
    "- Finally, try and create a full on Holt-Winters (`ExponentialSmoothing`). Use no trend parameter, there is little to no trend. Use an `additive` seasonal parameter. Try setting the `seasonal_periods` to 12 (one year). What happens? What about 150 (or there abouts, approx 12 years)?"
   ]
  },
  {
   "cell_type": "code",
   "execution_count": null,
   "metadata": {},
   "outputs": [],
   "source": []
  },
  {
   "cell_type": "code",
   "execution_count": null,
   "metadata": {},
   "outputs": [],
   "source": []
  },
  {
   "cell_type": "markdown",
   "metadata": {},
   "source": [
    "---\n"
   ]
  },
  {
   "cell_type": "markdown",
   "metadata": {},
   "source": [
    "# 7. Clustering\n",
    "\n",
    "Dendrograms are hierarchical plots of clusters where the length of the bars represent the distance to the next cluster centre.\n",
    "\n",
    "We can lean on our other general purpose data science library `scipy` to provide us with a method to plots dendrograms. Unfortunately we also have to use `scipy`s linkage methods, rather than `sklearn`s because of some expected parameters."
   ]
  },
  {
   "cell_type": "code",
   "execution_count": null,
   "metadata": {},
   "outputs": [],
   "source": [
    "from scipy.cluster.hierarchy import dendrogram, linkage\n",
    "\n",
    "linkage_matrix = linkage(X, 'ward')\n",
    "figure = plt.figure(figsize=(7.5, 5))\n",
    "dendrogram(\n",
    "    linkage_matrix,\n",
    "    color_threshold=0,\n",
    ")\n",
    "plt.title('Hierarchical Clustering Dendrogram (Ward)')\n",
    "plt.xlabel('sample index')\n",
    "plt.ylabel('distance')\n",
    "plt.tight_layout()\n",
    "plt.show()"
   ]
  },
  {
   "cell_type": "markdown",
   "metadata": {},
   "source": [
    "Wooohey that's a lot of legs. Let's cut a few off to be able to take a better look at the data..."
   ]
  },
  {
   "cell_type": "code",
   "execution_count": null,
   "metadata": {},
   "outputs": [],
   "source": [
    "figure = plt.figure(figsize=(7.5, 5))\n",
    "dendrogram(\n",
    "    linkage_matrix,\n",
    "    truncate_mode='lastp',  # show only the last p merged clusters\n",
    "    p=24,  # show only the last p merged clusters\n",
    "    leaf_rotation=90.,\n",
    "    leaf_font_size=12.,\n",
    "    show_contracted=True,  # to get a distribution impression in truncated branches\n",
    ")\n",
    "plt.title('Hierarchical Clustering Dendrogram (Ward, aggrogated)')\n",
    "plt.xlabel('sample index or (cluster size)')\n",
    "plt.ylabel('distance')\n",
    "plt.show()"
   ]
  },
  {
   "cell_type": "markdown",
   "metadata": {},
   "source": [
    "Ok, now we've honed our artistic skills, let's put them to the test in the whiskey data set.\n",
    "\n",
    "## A look at the whiskey dataset\n",
    "\n",
    "Let's load it in again."
   ]
  },
  {
   "cell_type": "code",
   "execution_count": null,
   "metadata": {},
   "outputs": [],
   "source": [
    "whiskey = pd.read_csv('../data/whiskies.csv')\n",
    "cols = ['Body', 'Sweetness', 'Smoky', 'Medicinal', 'Tobacco',\n",
    "       'Honey', 'Spicy', 'Winey', 'Nutty', 'Malty', 'Fruity', 'Floral']\n",
    "X = whiskey[cols]\n",
    "distillery_labels = whiskey['Distillery'].as_matrix()\n",
    "display(X.head())\n",
    "display(distillery_labels)"
   ]
  },
  {
   "cell_type": "markdown",
   "metadata": {},
   "source": [
    "### Tasks:\n",
    "\n",
    "- Plot a dendrogram of the whiskey data\n",
    "\n",
    "Hint: pass the parameter `labels=distillery_labels` to write the distillery names rather than index numbers. And remove the `truncate_mode` and `p` parameters."
   ]
  },
  {
   "cell_type": "code",
   "execution_count": null,
   "metadata": {},
   "outputs": [],
   "source": []
  },
  {
   "cell_type": "markdown",
   "metadata": {},
   "source": [
    "---\n",
    "\n",
    "# 8. Numerical Model Evaluation\n",
    "\n",
    "Being able to quantify performance is critical in the process of developing a model. You need to know how well you are solving the problem. You can only do that if you have some ground truth to compare yourself against (i.e. labels).\n",
    "\n",
    "If at all possible, always try and convert the evaluation metric into a unit that everyone can understand. Most often this is profit/loss, but that depends on what domain you are working in. It could be \"number of new subscribers\" or \"lives saved\".\n",
    "\n",
    "In this section we're going to take a quick look at generating a confusion matrix and some technical measures. Confusion matrices help you how your model made an error."
   ]
  },
  {
   "cell_type": "code",
   "execution_count": null,
   "metadata": {},
   "outputs": [],
   "source": [
    "from sklearn import metrics\n",
    "import numpy as np\n",
    "from sklearn import datasets, linear_model, tree\n",
    "import pandas as pd"
   ]
  },
  {
   "cell_type": "code",
   "execution_count": null,
   "metadata": {},
   "outputs": [],
   "source": [
    "X, y = datasets.load_digits(return_X_y=True)\n",
    "X_train, X_test, y_train, y_test = train_test_split(X, y, test_size=0.33, random_state=42)\n",
    "mdl = linear_model.LogisticRegression()\n",
    "print(\"Accuracy:\", mdl.fit(X_train, y_train).score(X_test, y_test))\n",
    "y_pred = mdl.predict(X_test)"
   ]
  },
  {
   "cell_type": "code",
   "execution_count": null,
   "metadata": {},
   "outputs": [],
   "source": [
    "print(metrics.confusion_matrix(y_test, y_pred))"
   ]
  },
  {
   "cell_type": "markdown",
   "metadata": {},
   "source": [
    "The confusion matrix above deserves some explanation. This is the digits dataset (8x8 images of written digits) and we're trying to predict which digit it is. So the label in this case is the number from zero to nine. I.e. ten classes.\n",
    "\n",
    "The [confusion matrix](https://scikit-learn.org/stable/modules/generated/sklearn.metrics.confusion_matrix.html) generated by sklearn is different from the way you would see it in the literature. This is zero indexed and the actual class is down the rows. So the top left cell should be a value of 0 and once it predicted that it was a 4. The bottom left row should be a 9 and it was predicted as a 9 63 times. But 5 times it was predicted to be an 8.\n",
    "\n",
    "Now let's generate some technical metrics."
   ]
  },
  {
   "cell_type": "code",
   "execution_count": null,
   "metadata": {},
   "outputs": [],
   "source": [
    "print(\"Accuracy: {:0.3f}\".format(metrics.accuracy_score(y_test, y_pred)))\n",
    "print(\"Balanced Accuracy: {:0.3f}\".format(metrics.balanced_accuracy_score(y_test, y_pred)))\n",
    "print(\"F1 Score: {:0.3f}\".format(metrics.f1_score(y_test, y_pred, average=\"macro\")))\n",
    "print(\"Precision: {:0.3f}\".format(metrics.precision_score(y_test, y_pred, average=\"macro\")))\n",
    "print(\"Recall: {:0.3f}\".format(metrics.recall_score(y_test, y_pred, average=\"macro\")))"
   ]
  },
  {
   "cell_type": "markdown",
   "metadata": {},
   "source": [
    "Only when performance is generally very good do we appoach similar scores across these variety of metrics.\n",
    "\n",
    "Note that we could have calculated more (e.g. AUC), but it would require more code, because some sklearn metrics only work with binary classes."
   ]
  },
  {
   "cell_type": "code",
   "execution_count": null,
   "metadata": {},
   "outputs": [],
   "source": [
    "# Import some fruit data\n",
    "url = \"../data/fruits.tsv\"\n",
    "fruit = pd.read_csv(url, sep='\\t')\n",
    "\n",
    "# Throw away all data except apples and oranges\n",
    "fruit = fruit.query('(fruit_name == \"apple\") | (fruit_name == \"orange\")')\n",
    "fruit_names = fruit.fruit_name\n",
    "\n",
    "# Throw away all features except mass and color_score\n",
    "X = fruit[['mass', 'color_score']]\n",
    "y = fruit.fruit_label\n",
    "# Recode the orange label (a `3`) to a 1 so we have 0=apple, 1=orange\n",
    "y = y.replace(3, 0)\n",
    "X_train, X_test, y_train, y_test = train_test_split(X, y, test_size=0.33, random_state=42)"
   ]
  },
  {
   "cell_type": "code",
   "execution_count": null,
   "metadata": {
    "scrolled": true
   },
   "outputs": [],
   "source": [
    "clf = tree.DecisionTreeClassifier().fit(X_train, y_train)\n",
    "y_pred = clf.predict(X_test)"
   ]
  },
  {
   "cell_type": "markdown",
   "metadata": {},
   "source": [
    "---\n",
    "\n",
    "### Tasks:\n",
    "\n",
    "- Generate the confusion matrix for the data above. How is the model getting it wrong?\n",
    "- Generate some metrics for the results above. What does that tell you?"
   ]
  },
  {
   "cell_type": "code",
   "execution_count": null,
   "metadata": {},
   "outputs": [],
   "source": []
  },
  {
   "cell_type": "markdown",
   "metadata": {},
   "source": [
    "---"
   ]
  },
  {
   "cell_type": "markdown",
   "metadata": {},
   "source": [
    "# 9. Visual Evaluation\n",
    "\n",
    "Visual evaluation can often be more useful because your eyes find it easier to spot differences or issues better than when just looking at raw numbers. Here we're going to look at plotting a ROC curve, which is the number one way of visualising classifier performance.\n",
    "\n",
    "Other visualisations do exist and can be better in certain situations. For example, you wouldn't want to show this plot to a non-technical audience because of the unintuitive use of FPR and TPR metrics.\n",
    "\n",
    "Furthermore, you would use different plots to evaluation the performance of regression and clustering, all of which we don't have time to go into.\n",
    "\n",
    "Finally, check out [scikit plot](https://github.com/reiinakano/scikit-plot) for some useful oneliners to do the same thing as we're doing below."
   ]
  },
  {
   "cell_type": "code",
   "execution_count": null,
   "metadata": {},
   "outputs": [],
   "source": [
    "from sklearn import metrics\n",
    "from sklearn import decomposition, datasets, linear_model\n",
    "from sklearn.model_selection import train_test_split\n",
    "import numpy as np\n",
    "import matplotlib.pyplot as plt"
   ]
  },
  {
   "cell_type": "code",
   "execution_count": null,
   "metadata": {},
   "outputs": [],
   "source": [
    "X, y = datasets.load_digits(return_X_y=True)\n",
    "y[y<5] = 0\n",
    "y[y>=5] = 1\n",
    "X_train, X_test, y_train, y_test = train_test_split(X, y, test_size=0.33, random_state=42)"
   ]
  },
  {
   "cell_type": "code",
   "execution_count": null,
   "metadata": {
    "scrolled": true
   },
   "outputs": [],
   "source": [
    "mdl = linear_model.LogisticRegression()\n",
    "print(\"Accuracy:\", mdl.fit(X_train, y_train).score(X_test, y_test))\n",
    "y_proba = mdl.predict_proba(X_test)[:,1]"
   ]
  },
  {
   "cell_type": "code",
   "execution_count": null,
   "metadata": {},
   "outputs": [],
   "source": [
    "fpr, tpr, _ = metrics.roc_curve(y_test, y_proba)\n",
    "plt.figure();\n",
    "lw = 2\n",
    "plt.plot(fpr, tpr, color='darkorange', lw=lw, label='ROC curve')\n",
    "plt.plot([0, 1], [0, 1], color='navy', lw=lw, linestyle='--', label='Random')\n",
    "plt.xlim([0.0, 1.0])\n",
    "plt.ylim([0.0, 1.05])\n",
    "plt.xlabel('False Positive Rate')\n",
    "plt.ylabel('True Positive Rate')\n",
    "plt.title('Receiver operating characteristic example')\n",
    "plt.legend(loc=\"lower right\")\n",
    "plt.show()"
   ]
  },
  {
   "cell_type": "markdown",
   "metadata": {},
   "source": [
    "---\n",
    "\n",
    "### Tasks:\n",
    "\n",
    "- Train another model and plot the ROC curve. (bonus, plot the ROC curves for both models on the same plot)\n",
    "- Which is better?"
   ]
  },
  {
   "cell_type": "code",
   "execution_count": null,
   "metadata": {},
   "outputs": [],
   "source": []
  },
  {
   "cell_type": "code",
   "execution_count": null,
   "metadata": {},
   "outputs": [],
   "source": []
  },
  {
   "cell_type": "markdown",
   "metadata": {},
   "source": [
    "---"
   ]
  },
  {
   "cell_type": "markdown",
   "metadata": {},
   "source": [
    "# Conclusions and Contact\n",
    "\n",
    "That's it for today. That really was a whistlestop tour of doing Data Science with Python.\n",
    "\n",
    "As you can imagine, we have only touched the surface here. I could spend full days talking about each of these chapters.\n",
    "\n",
    "I hope you've enjoyed it. I hope this makes you want to learn more!\n",
    "\n",
    "If you need professional help, my company [Winder Research](https://WinderResearch.com) can assist. Otherwise, feel free to get in touch using the contact details at the top.\n",
    "\n",
    "Thanks,\n",
    "Phil"
   ]
  }
 ],
 "metadata": {
  "kernelspec": {
   "display_name": "Python 3",
   "language": "python",
   "name": "python3"
  },
  "language_info": {
   "codemirror_mode": {
    "name": "ipython",
    "version": 3
   },
   "file_extension": ".py",
   "mimetype": "text/x-python",
   "name": "python",
   "nbconvert_exporter": "python",
   "pygments_lexer": "ipython3",
   "version": "3.6.7"
  }
 },
 "nbformat": 4,
 "nbformat_minor": 2
}
