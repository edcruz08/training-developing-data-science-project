{
 "cells": [
  {
   "cell_type": "markdown",
   "metadata": {},
   "source": [
    "# Mean and Standard Deviation\n",
    "\n",
    "Welcome! This workshop is from [TrainingDataScience.com](https://trainingdatascience.com/?utm_source=trainingdatascience&utm_medium=notebook&utm_campaign=workshop&utm_term=individual). Sign up to receive more free workshops, training and videos.\n",
    "\n",
    "This workshop is about two fundamental measures of data. I want to you start thinking about how you can best describe or summarise data. How can we best take a set of data and describe that data in as few variables as possible? These are called _summary statistics_ because they summarise statistical data. In other words, this is your first model!"
   ]
  },
  {
   "cell_type": "code",
   "execution_count": 1,
   "metadata": {},
   "outputs": [],
   "source": [
    "import numpy as np"
   ]
  },
  {
   "cell_type": "markdown",
   "metadata": {},
   "source": [
    "## Mean\n",
    "\n",
    "The _mean_, also known as the average, is a measure of the tendency of the data. For example, if you were provided some data then you could say that, on average, is most likely best represented by the mean.\n",
    "\n",
    "The mean is calculated as:\n",
    "\n",
    "$$\\mu = \\frac{\\sum_{i=0}^{N-1}{ x_i }} {N}$$\n",
    "\n",
    "The sum of all observations divided by the number of observations."
   ]
  },
  {
   "cell_type": "code",
   "execution_count": 2,
   "metadata": {},
   "outputs": [],
   "source": [
    "x = [6, 4, 6, 9, 4, 4, 9, 7, 3, 6];"
   ]
  },
  {
   "cell_type": "code",
   "execution_count": 3,
   "metadata": {},
   "outputs": [
    {
     "name": "stdout",
     "output_type": "stream",
     "text": [
      "μ = 5.8\n"
     ]
    }
   ],
   "source": [
    "N = len(x)\n",
    "x_sum = 0\n",
    "for i in range(N):\n",
    "    x_sum = x_sum + x[i]\n",
    "mu = x_sum / N\n",
    "print(\"μ =\", mu)"
   ]
  },
  {
   "cell_type": "markdown",
   "metadata": {},
   "source": [
    "Of course, we should be using libraries to reduce the amount of code we have to write. For low level tasks such as this, the most common library is called Numpy.\n",
    "\n",
    "We can rewrite the above as:"
   ]
  },
  {
   "cell_type": "code",
   "execution_count": 4,
   "metadata": {},
   "outputs": [
    {
     "name": "stdout",
     "output_type": "stream",
     "text": [
      "μ = 5.8\n"
     ]
    }
   ],
   "source": [
    "N = len(x)\n",
    "x_sum = np.sum(x)\n",
    "mu = x_sum / N\n",
    "print(\"μ =\", mu)"
   ]
  },
  {
   "cell_type": "markdown",
   "metadata": {},
   "source": [
    "We can take this even further and just use Numpy's implementation of the mean:"
   ]
  },
  {
   "cell_type": "code",
   "execution_count": 5,
   "metadata": {},
   "outputs": [
    {
     "name": "stdout",
     "output_type": "stream",
     "text": [
      "μ = 5.8\n"
     ]
    }
   ],
   "source": [
    "print(\"μ =\", np.mean(x))"
   ]
  },
  {
   "cell_type": "markdown",
   "metadata": {},
   "source": [
    "## Standard Deviation\n",
    "\n",
    "To describe our data, the mean alone doesn't provide enough information. It tells us what value we should observe on average. But the values could be +/- 1 or +/- 100 of that value. (+/- is shorthand for \"plus or minus\", i.e. \"could be greater than or less than this value\").\n",
    "\n",
    "To provide this information we need a measure of \"spread\" around the mean. The most common measure of \"spread\" is the _standard deviation_.\n",
    "\n",
    "Read more about the standard deviation at: [TrainingDataScience.com - Why do we use Standard Deviation and is it Right?](https://trainingdatascience.com/tips/why-do-we-use-standard-deviation/?utm_source=trainingdatascience&utm_medium=notebook&utm_campaign=workshop&utm_term=individual).\n",
    "\n",
    "The standard deviation of a population is:\n",
    "\n",
    "$$\\sigma = \\sqrt{ \\frac{\\sum_{i=0}^{N-1}{ (x_i - \\mu )^2 }} {N} }$$"
   ]
  },
  {
   "cell_type": "code",
   "execution_count": 6,
   "metadata": {},
   "outputs": [],
   "source": [
    "x = [6, 4, 6, 9, 4, 4, 9, 7, 3, 6];"
   ]
  },
  {
   "cell_type": "code",
   "execution_count": 7,
   "metadata": {},
   "outputs": [
    {
     "name": "stdout",
     "output_type": "stream",
     "text": [
      "μ = 5.8\n"
     ]
    }
   ],
   "source": [
    "N = len(x)\n",
    "mu = np.mean(x)\n",
    "print(\"μ =\", mu)"
   ]
  },
  {
   "cell_type": "code",
   "execution_count": 8,
   "metadata": {},
   "outputs": [
    {
     "name": "stdout",
     "output_type": "stream",
     "text": [
      "Deviations from the mean: [ 0.2 -1.8  0.2  3.2 -1.8 -1.8  3.2  1.2 -2.8  0.2]\n",
      "Squared deviations from the mean: [  0.04   3.24   0.04  10.24   3.24   3.24  10.24   1.44   7.84   0.04]\n",
      "Sum of squared deviations from the mean: 39.6\n",
      "Mean of squared deviations from the mean: 3.96\n"
     ]
    }
   ],
   "source": [
    "print(\"Deviations from the mean:\", x - mu)\n",
    "print(\"Squared deviations from the mean:\", (x - mu)**2)\n",
    "print(\"Sum of squared deviations from the mean:\", ((x - mu)**2).sum() )\n",
    "print(\"Mean of squared deviations from the mean:\", ((x - mu)**2).sum() / N )"
   ]
  },
  {
   "cell_type": "code",
   "execution_count": 9,
   "metadata": {},
   "outputs": [
    {
     "name": "stdout",
     "output_type": "stream",
     "text": [
      "σ = 1.98997487421\n"
     ]
    }
   ],
   "source": [
    "print(\"σ =\", np.sqrt(((x - mu)**2).sum() / N ))"
   ]
  },
  {
   "cell_type": "markdown",
   "metadata": {},
   "source": [
    "Again, we don't need to code this all up. The Numpy equivalent is:"
   ]
  },
  {
   "cell_type": "code",
   "execution_count": 10,
   "metadata": {},
   "outputs": [
    {
     "name": "stdout",
     "output_type": "stream",
     "text": [
      "σ = 1.98997487421\n"
     ]
    }
   ],
   "source": [
    "print(\"σ =\", np.std(x))"
   ]
  },
  {
   "cell_type": "markdown",
   "metadata": {},
   "source": [
    "## What's the Catch?\n",
    "\n",
    "You knew they'd be a catch, right? ;-)\n",
    "\n",
    "I didn't mention it at the start, but the two previous measures of the central tendency and the spread are specific to a very special combination of data.\n",
    "\n",
    "If the observations are _distributed_ in a special way, then these metrics perfectly _model_ the underlying data. If not, then these metrics are invalid.\n",
    "\n",
    "You probably said \"huh?\" to a few of those new words, so let's go through them."
   ]
  },
  {
   "cell_type": "markdown",
   "metadata": {
    "collapsed": true
   },
   "source": [
    "# Information and Entropy\n",
    "\n",
    "Welcome! This workshop is from [TrainingDataScience.com](https://trainingdatascience.com/?utm_source=trainingdatascience&utm_medium=notebook&utm_campaign=workshop&utm_term=individual). Sign up to receive more free workshops, training and videos.\n",
    "\n",
    "Remember the goal of data science. The goal is to make a decision based upon some data. The quality of that decision depends on our information. If we have good, clear information then we can make well informed decisions. If we have bad, messy data then our decisions will be poor.\n",
    "\n",
    "## Classification\n",
    "\n",
    "In the context of classification, which is the the attempt to predict which _class_ an observation belongs to, we can be more certain about a result if our algorithm is able to separate the classes _cleanly_.\n",
    "\n",
    "One measure of how _clean_ or _pure_ a collection of classes are is Entropy.\n",
    "\n",
    "In this workshop we will mathematically define entropy, which is a measure of the amount of information that can be stored in a limited number of bits."
   ]
  },
  {
   "cell_type": "code",
   "execution_count": 11,
   "metadata": {},
   "outputs": [],
   "source": [
    "import numpy as np # Numpy is a general purpose mathematical library for Python. \n",
    "                   # Most higher level data science libraries use Numpy under the bonnet."
   ]
  },
  {
   "cell_type": "code",
   "execution_count": 12,
   "metadata": {},
   "outputs": [
    {
     "name": "stdout",
     "output_type": "stream",
     "text": [
      "14.2857142857\n",
      "1225.06122449\n"
     ]
    }
   ],
   "source": [
    "X = np.array([0, 0, 1, 1, -1, -1, 100]) # Create an array. All numpy funcitons expect the data in a Numpy array.\n",
    "print(np.mean(X))\n",
    "print(np.var(X))"
   ]
  },
  {
   "cell_type": "markdown",
   "metadata": {},
   "source": [
    "# Entropy\n",
    "\n",
    "Remember entrpopy is defined as:\n",
    "\n",
    "$$H=-\\sum(p_i \\log_2 (p_i))$$\n",
    "\n",
    "Where \\\\(p_i\\\\) is the probability that the observation belongs to class \\\\(i\\\\). (i.e. $p(y==c)/n$, where y is the target, c is the class of interest and n is the total number of samples)\n",
    "\n",
    "For example, if we have two classes:\n",
    "\n",
    "$$H=-p_1 \\log_2 (p_1)-p_2 \\log_2 (p_2)$$\n",
    "\n",
    "\n",
    "### Task\n",
    "\n",
    "- Read through this code and understand what is going on.\n",
    "- Try calculating the entropy of another array of values. What happens when you add more values? Change values?"
   ]
  },
  {
   "cell_type": "code",
   "execution_count": 13,
   "metadata": {},
   "outputs": [],
   "source": [
    "y = np.array([0, 0, 1, 1])                                  # They implement all kinds of useful operators, like the == operator."
   ]
  },
  {
   "cell_type": "code",
   "execution_count": 14,
   "metadata": {},
   "outputs": [],
   "source": [
    "def entropy(y):\n",
    "    probs = []            # A placeholder for probabilities of each class label\n",
    "    classes = set(y)      # List of classes. A mathematical set. E.g. set([0,0,1,1]) == [0,1]\n",
    "    num_states = len(y)   # Total possible number of states\n",
    "    for c in classes:     # For each class\n",
    "        same_class = y == c               # Which observations have the same class?\n",
    "        num_same_class = sum(same_class)  # Implicit conversion here. sum([true, true, false, false]) == 2\n",
    "        p = num_same_class / num_states   # Probability of this class label (interested states / all possible states)\n",
    "        probs.append(p)\n",
    "    # Now we have the probabilities for all the classes, calculate the entropy\n",
    "    return np.sum(-p * np.log2(p) for p in probs)"
   ]
  },
  {
   "cell_type": "code",
   "execution_count": 15,
   "metadata": {},
   "outputs": [
    {
     "name": "stdout",
     "output_type": "stream",
     "text": [
      "1.0\n"
     ]
    }
   ],
   "source": [
    "print(entropy(y)) # Should be 1.0"
   ]
  },
  {
   "cell_type": "markdown",
   "metadata": {},
   "source": [
    "# Information gain\n",
    "\n",
    "Imagine we had some data like that of `X` and `y` above, where `X` are the fetures and `y` are the class labels.\n",
    "\n",
    "We could propose a threshold or a rule that would split the data in `X` to separate the classes. How would we quantify which was the best split?\n",
    "\n",
    "What we can do is compare the entropy of the parent before the split against the weighted combination of the entropy after the split. I.e. if three observations end up in the left bucket and one in the right, then the left bucket will account for three quarters of the child's entropy.\n",
    "\n",
    "If we subtract the parent entropy from the weighted child's entroy, we're left with a measure of _improvement_. This is called the _information gain_.\n",
    "\n",
    "The information gain is defined as the parent entropy minus the weighted entropy of the subgroups.\n",
    "\n",
    "$$\n",
    "\\begin{align}\n",
    "IG(parent, children) = & entropy(parent) - \\nonumber \\\\\\\\\n",
    "& \\left(p(c_1)entropy(c_1) + p(c_2)entropy(c_2) + ...\\right)\n",
    "\\end{align}\n",
    "$$\n",
    "\n",
    "### Tasks:\n",
    "\n",
    "- Given the following `information_gain` function (understand it) pick some splits and calculate the information gain. Which is better?"
   ]
  },
  {
   "cell_type": "code",
   "execution_count": 16,
   "metadata": {},
   "outputs": [],
   "source": [
    "X = np.array([[4.2, 92], [6.4, 102], [3.5, 3], [4.7, 10]])\n",
    "y = np.array([0, 0, 1, 1])"
   ]
  },
  {
   "cell_type": "code",
   "execution_count": 17,
   "metadata": {},
   "outputs": [],
   "source": [
    "def information_gain(parent, left_split, right_split):\n",
    "    return entropy(parent) - (len(left_split) / len(parent)) * entropy(left_split) - (len(right_split) / len(parent)) * entropy(right_split)"
   ]
  },
  {
   "cell_type": "code",
   "execution_count": 18,
   "metadata": {},
   "outputs": [
    {
     "name": "stdout",
     "output_type": "stream",
     "text": [
      "0.31\n"
     ]
    }
   ],
   "source": [
    "# Make a split around the first column, < 5.0:\n",
    "split1 = information_gain(y, y[X[:, 0] < 5.0], y[X[:, 0] > 5.0])\n",
    "print(\"%0.2f\" % split1)   # Should be 0.31"
   ]
  },
  {
   "cell_type": "code",
   "execution_count": 19,
   "metadata": {
    "scrolled": true
   },
   "outputs": [
    {
     "name": "stdout",
     "output_type": "stream",
     "text": [
      "1.0\n",
      "Split 2 is better\n"
     ]
    }
   ],
   "source": [
    "# Make a split around the second column, < 50.0:\n",
    "split2 = information_gain(y, y[X[:, 1] < 50], y[X[:, 1] > 50])\n",
    "print(split2)   # Should be 1.0\n",
    "print(\"Split %d is better\" % ((split1 < split2) + 1))     # Split 2 should be better, higher information gain"
   ]
  },
  {
   "cell_type": "markdown",
   "metadata": {},
   "source": [
    "# Feature selection by information gain\n",
    "\n",
    "Welcome! This workshop is from [TrainingDataScience.com](https://trainingdatascience.com/?utm_source=trainingdatascience&utm_medium=notebook&utm_campaign=workshop&utm_term=individual). Sign up to receive more free workshops, training and videos.\n",
    "\n",
    "One simple way to evaluate the importance of features (something we will deal with later) is to calculate the entropy for prospective splits.\n",
    "\n",
    "In this example, we will look at a real dataset called the [\"mushroom dataset\"](https://archive.ics.uci.edu/ml/datasets/mushroom). It is a large collection of data about poisonous and edible mushrooms.\n",
    "\n",
    "Attribute Information: (classes: edible=e, poisonous=p)\n",
    "     1. cap-shape:                bell=b,conical=c,convex=x,flat=f,\n",
    "                                  knobbed=k,sunken=s\n",
    "     2. cap-surface:              fibrous=f,grooves=g,scaly=y,smooth=s\n",
    "     3. cap-color:                brown=n,buff=b,cinnamon=c,gray=g,green=r,\n",
    "                                  pink=p,purple=u,red=e,white=w,yellow=y\n",
    "     4. bruises?:                 bruises=t,no=f\n",
    "     5. odor:                     almond=a,anise=l,creosote=c,fishy=y,foul=f,\n",
    "                                  musty=m,none=n,pungent=p,spicy=s"
   ]
  },
  {
   "cell_type": "code",
   "execution_count": 20,
   "metadata": {
    "scrolled": true
   },
   "outputs": [
    {
     "data": {
      "text/html": [
       "<div>\n",
       "<style scoped>\n",
       "    .dataframe tbody tr th:only-of-type {\n",
       "        vertical-align: middle;\n",
       "    }\n",
       "\n",
       "    .dataframe tbody tr th {\n",
       "        vertical-align: top;\n",
       "    }\n",
       "\n",
       "    .dataframe thead th {\n",
       "        text-align: right;\n",
       "    }\n",
       "</style>\n",
       "<table border=\"1\" class=\"dataframe\">\n",
       "  <thead>\n",
       "    <tr style=\"text-align: right;\">\n",
       "      <th></th>\n",
       "      <th>cap-shape</th>\n",
       "      <th>cap-surface</th>\n",
       "      <th>cap-color</th>\n",
       "      <th>bruises?</th>\n",
       "      <th>odor</th>\n",
       "      <th>gill-attachment</th>\n",
       "      <th>gill-spacing</th>\n",
       "      <th>gill-size</th>\n",
       "      <th>gill-color</th>\n",
       "      <th>stalk-shape</th>\n",
       "      <th>...</th>\n",
       "      <th>stalk-surface-below-ring</th>\n",
       "      <th>stalk-color-above-ring</th>\n",
       "      <th>stalk-color-below-ring</th>\n",
       "      <th>veil-type</th>\n",
       "      <th>veil-color</th>\n",
       "      <th>ring-number</th>\n",
       "      <th>ring-type</th>\n",
       "      <th>spore-print-color</th>\n",
       "      <th>population</th>\n",
       "      <th>habitat</th>\n",
       "    </tr>\n",
       "  </thead>\n",
       "  <tbody>\n",
       "    <tr>\n",
       "      <th>0</th>\n",
       "      <td>x</td>\n",
       "      <td>s</td>\n",
       "      <td>y</td>\n",
       "      <td>t</td>\n",
       "      <td>a</td>\n",
       "      <td>f</td>\n",
       "      <td>c</td>\n",
       "      <td>b</td>\n",
       "      <td>k</td>\n",
       "      <td>e</td>\n",
       "      <td>...</td>\n",
       "      <td>s</td>\n",
       "      <td>w</td>\n",
       "      <td>w</td>\n",
       "      <td>p</td>\n",
       "      <td>w</td>\n",
       "      <td>o</td>\n",
       "      <td>p</td>\n",
       "      <td>n</td>\n",
       "      <td>n</td>\n",
       "      <td>g</td>\n",
       "    </tr>\n",
       "    <tr>\n",
       "      <th>1</th>\n",
       "      <td>b</td>\n",
       "      <td>s</td>\n",
       "      <td>w</td>\n",
       "      <td>t</td>\n",
       "      <td>l</td>\n",
       "      <td>f</td>\n",
       "      <td>c</td>\n",
       "      <td>b</td>\n",
       "      <td>n</td>\n",
       "      <td>e</td>\n",
       "      <td>...</td>\n",
       "      <td>s</td>\n",
       "      <td>w</td>\n",
       "      <td>w</td>\n",
       "      <td>p</td>\n",
       "      <td>w</td>\n",
       "      <td>o</td>\n",
       "      <td>p</td>\n",
       "      <td>n</td>\n",
       "      <td>n</td>\n",
       "      <td>m</td>\n",
       "    </tr>\n",
       "    <tr>\n",
       "      <th>2</th>\n",
       "      <td>x</td>\n",
       "      <td>y</td>\n",
       "      <td>w</td>\n",
       "      <td>t</td>\n",
       "      <td>p</td>\n",
       "      <td>f</td>\n",
       "      <td>c</td>\n",
       "      <td>n</td>\n",
       "      <td>n</td>\n",
       "      <td>e</td>\n",
       "      <td>...</td>\n",
       "      <td>s</td>\n",
       "      <td>w</td>\n",
       "      <td>w</td>\n",
       "      <td>p</td>\n",
       "      <td>w</td>\n",
       "      <td>o</td>\n",
       "      <td>p</td>\n",
       "      <td>k</td>\n",
       "      <td>s</td>\n",
       "      <td>u</td>\n",
       "    </tr>\n",
       "    <tr>\n",
       "      <th>3</th>\n",
       "      <td>x</td>\n",
       "      <td>s</td>\n",
       "      <td>g</td>\n",
       "      <td>f</td>\n",
       "      <td>n</td>\n",
       "      <td>f</td>\n",
       "      <td>w</td>\n",
       "      <td>b</td>\n",
       "      <td>k</td>\n",
       "      <td>t</td>\n",
       "      <td>...</td>\n",
       "      <td>s</td>\n",
       "      <td>w</td>\n",
       "      <td>w</td>\n",
       "      <td>p</td>\n",
       "      <td>w</td>\n",
       "      <td>o</td>\n",
       "      <td>e</td>\n",
       "      <td>n</td>\n",
       "      <td>a</td>\n",
       "      <td>g</td>\n",
       "    </tr>\n",
       "    <tr>\n",
       "      <th>4</th>\n",
       "      <td>x</td>\n",
       "      <td>y</td>\n",
       "      <td>y</td>\n",
       "      <td>t</td>\n",
       "      <td>a</td>\n",
       "      <td>f</td>\n",
       "      <td>c</td>\n",
       "      <td>b</td>\n",
       "      <td>n</td>\n",
       "      <td>e</td>\n",
       "      <td>...</td>\n",
       "      <td>s</td>\n",
       "      <td>w</td>\n",
       "      <td>w</td>\n",
       "      <td>p</td>\n",
       "      <td>w</td>\n",
       "      <td>o</td>\n",
       "      <td>p</td>\n",
       "      <td>k</td>\n",
       "      <td>n</td>\n",
       "      <td>g</td>\n",
       "    </tr>\n",
       "  </tbody>\n",
       "</table>\n",
       "<p>5 rows × 22 columns</p>\n",
       "</div>"
      ],
      "text/plain": [
       "  cap-shape cap-surface cap-color bruises? odor gill-attachment gill-spacing  \\\n",
       "0         x           s         y        t    a               f            c   \n",
       "1         b           s         w        t    l               f            c   \n",
       "2         x           y         w        t    p               f            c   \n",
       "3         x           s         g        f    n               f            w   \n",
       "4         x           y         y        t    a               f            c   \n",
       "\n",
       "  gill-size gill-color stalk-shape   ...   stalk-surface-below-ring  \\\n",
       "0         b          k           e   ...                          s   \n",
       "1         b          n           e   ...                          s   \n",
       "2         n          n           e   ...                          s   \n",
       "3         b          k           t   ...                          s   \n",
       "4         b          n           e   ...                          s   \n",
       "\n",
       "  stalk-color-above-ring stalk-color-below-ring veil-type veil-color  \\\n",
       "0                      w                      w         p          w   \n",
       "1                      w                      w         p          w   \n",
       "2                      w                      w         p          w   \n",
       "3                      w                      w         p          w   \n",
       "4                      w                      w         p          w   \n",
       "\n",
       "  ring-number ring-type spore-print-color population habitat  \n",
       "0           o         p                 n          n       g  \n",
       "1           o         p                 n          n       m  \n",
       "2           o         p                 k          s       u  \n",
       "3           o         e                 n          a       g  \n",
       "4           o         p                 k          n       g  \n",
       "\n",
       "[5 rows x 22 columns]"
      ]
     },
     "metadata": {},
     "output_type": "display_data"
    },
    {
     "data": {
      "text/plain": [
       "0    0\n",
       "1    0\n",
       "2    1\n",
       "3    0\n",
       "4    0\n",
       "Name: poisonous, dtype: int64"
      ]
     },
     "metadata": {},
     "output_type": "display_data"
    }
   ],
   "source": [
    "# Load the data with a library called pandas. Pandas is very cool, and we will be using it a lot.\n",
    "import pandas as pd\n",
    "import numpy as np\n",
    "\n",
    "# We're going to use the display module to embed some outputs\n",
    "from IPython.display import display\n",
    "\n",
    "# Read data using Pandas from the UCI data repository.\n",
    "feature_names = [\"poisonous\", \"cap-shape\", \"cap-surface\", \"cap-color\", \"bruises?\", \"odor\", \"gill-attachment\", \"gill-spacing\", \"gill-size\", \"gill-color\", \"stalk-shape\", \"stalk-root\", \"stalk-surface-above-ring\", \"stalk-surface-below-ring\", \"stalk-color-above-ring\", \"stalk-color-below-ring\", \"veil-type\", \"veil-color\", \"ring-number\", \"ring-type\", \"spore-print-color\", \"population\", \"habitat\"]\n",
    "X = pd.read_csv(\"https://archive.ics.uci.edu/ml/machine-learning-databases/mushroom/agaricus-lepiota.data\", header=0, names=feature_names)\n",
    "y = X[\"poisonous\"]                      # Select target label\n",
    "X.drop(['poisonous'], axis=1, inplace=True)   # Remove target label from dataset\n",
    "display(X.head())                       # Show some data\n",
    "\n",
    "y = y.map({\"e\": 0, \"p\": 1})             # Mapping the classes to zeros and ones, not strictly necessary.\n",
    "display(y.head())"
   ]
  },
  {
   "cell_type": "code",
   "execution_count": 21,
   "metadata": {},
   "outputs": [
    {
     "name": "stdout",
     "output_type": "stream",
     "text": [
      "Entire set entropy = 1.00\n"
     ]
    }
   ],
   "source": [
    "# This is the entropy method we defined in the Entropy workshop\n",
    "def entropy(y):\n",
    "    probs = [] # Probabilities of each class label\n",
    "    for c in set(y): # Set gets a unique set of values. We're iterating over each value\n",
    "        num_same_class = sum(y == c)  # Remember that true == 1, so we can sum.\n",
    "        p = num_same_class / len(y) # Probability of this class label\n",
    "        probs.append(p)\n",
    "    return np.sum(-p * np.log2(p) for p in probs)\n",
    "\n",
    "# What is the entropy of the entire set?\n",
    "print(\"Entire set entropy = %.2f\" % entropy(y))"
   ]
  },
  {
   "cell_type": "code",
   "execution_count": 22,
   "metadata": {},
   "outputs": [],
   "source": [
    "# Let's write some functions that calculates the entropy after splitting on a particular value\n",
    "\n",
    "def class_probability(feature, y):\n",
    "    \"\"\"Calculates the proportional length of each value in the set of instances\"\"\"\n",
    "    # This is doc string, used for documentation\n",
    "    probs = []\n",
    "    for value in set(feature):\n",
    "        select = feature == value # Split by feature value into two classes\n",
    "        y_new = y[select]         # Those that exist in this class are now in y_new\n",
    "        probs.append(float(len(y_new))/len(X))  # Convert to float, because ints don't divide well\n",
    "    return probs\n",
    "\n",
    "def class_entropy(feature, y):\n",
    "    \"\"\"Calculates the entropy for each value in the set of instances\"\"\"\n",
    "    ents = []\n",
    "    for value in set(feature):\n",
    "        select = feature == value # Split by feature value into two classes\n",
    "        y_new = y[select]         # Those that exist in this class are now in y_new\n",
    "        ents.append(entropy(y_new))\n",
    "    return ents\n",
    "\n",
    "def proportionate_class_entropy(feature, y):\n",
    "    \"\"\"Calculatates the weighted proportional entropy for a feature when splitting on all values\"\"\"\n",
    "    probs = class_probability(feature, y)\n",
    "    ents = class_entropy(feature, y)\n",
    "    return np.sum(np.multiply(probs, ents)) # Information gain equation\n"
   ]
  },
  {
   "cell_type": "code",
   "execution_count": 23,
   "metadata": {},
   "outputs": [
    {
     "name": "stdout",
     "output_type": "stream",
     "text": [
      "Information gain of 0.05\n"
     ]
    }
   ],
   "source": [
    "# Let's try calculating the entropy after splitting by all the values in \"cap-shape\"\n",
    "new_entropy = proportionate_class_entropy(X[\"cap-shape\"], y)\n",
    "print(\"Information gain of %.2f\" % (entropy(y) - new_entropy))\n",
    "# Should be an information gain of 0.05"
   ]
  },
  {
   "cell_type": "code",
   "execution_count": 24,
   "metadata": {},
   "outputs": [
    {
     "name": "stdout",
     "output_type": "stream",
     "text": [
      "Information gain of 0.91\n"
     ]
    }
   ],
   "source": [
    "# Now let's try doing the same when splitting based upon all values of \"odor\"\n",
    "new_entropy = proportionate_class_entropy(X[\"odor\"], y)\n",
    "print(\"Information gain of %.2f\" % (entropy(y) - new_entropy))\n",
    "# Should be an information gain of 0.91"
   ]
  },
  {
   "cell_type": "markdown",
   "metadata": {},
   "source": [
    "Clearly, if we were thinking about looking at individual features, then `odor` would be a far better prospect than `cap-shape`.\n",
    "\n",
    "This is cool. You have manually implemented a Decision Tree! Well done! Later on we'll use a library to do this sort of thing.\n",
    "\n",
    "### Which Feature Produces the Best Split?\n",
    "\n",
    "We can repeat this process for all features. The best split is the one with the highest information gain."
   ]
  },
  {
   "cell_type": "code",
   "execution_count": 25,
   "metadata": {},
   "outputs": [
    {
     "name": "stdout",
     "output_type": "stream",
     "text": [
      "cap-shape 0.05\n",
      "cap-surface 0.03\n",
      "cap-color 0.04\n",
      "bruises? 0.19\n",
      "odor 0.91\n",
      "gill-attachment 0.01\n",
      "gill-spacing 0.10\n",
      "gill-size 0.23\n",
      "gill-color 0.42\n",
      "stalk-shape 0.01\n",
      "stalk-root 0.13\n",
      "stalk-surface-above-ring 0.28\n",
      "stalk-surface-below-ring 0.27\n",
      "stalk-color-above-ring 0.25\n",
      "stalk-color-below-ring 0.24\n",
      "veil-type 0.00\n",
      "veil-color 0.02\n",
      "ring-number 0.04\n",
      "ring-type 0.32\n",
      "spore-print-color 0.48\n",
      "population 0.20\n",
      "habitat 0.16\n"
     ]
    }
   ],
   "source": [
    "for c in X.columns:\n",
    "    new_entropy = proportionate_class_entropy(X[c], y)\n",
    "    print(\"%s %.2f\" % (c, entropy(y) - new_entropy))"
   ]
  },
  {
   "cell_type": "markdown",
   "metadata": {},
   "source": [
    "## Plotting\n",
    "\n",
    "Throughout data science, results are more intruitive to reason about if you present the data or the results in different media.\n",
    "\n",
    "Plotting is used for everything; investigating data through to presenting results.\n",
    "\n",
    "You should become familiar with plotting data; below we go through a fairly comprehensive example."
   ]
  },
  {
   "cell_type": "code",
   "execution_count": 26,
   "metadata": {},
   "outputs": [],
   "source": [
    "# Matplotlib is _the_ plotting library for python. Most other tools are based \n",
    "# upon matplot lib. We will use others as appropriate in the future (mainly\n",
    "# pandas's helpers)\n",
    "import matplotlib.pyplot as plt\n",
    "\n",
    "colours = 'bgrcmk'  # An array of colours used during plotting later on.\n",
    "\n",
    "def plot_entropy(probability, entropy, labels):\n",
    "    \"\"\"Graphical representation of entropy when splitting on each value\"\"\"\n",
    "\n",
    "    # Some complex calculations to get the centre of the bars\n",
    "    positions = np.array([0])\n",
    "    positions = np.concatenate((positions, np.cumsum(probability)[:-1]))\n",
    "    positions += np.divide(probability, 2)\n",
    "    \n",
    "    # Plot bars with colours\n",
    "    plt.bar(positions, entropy, width=probability, color=colours[:len(probability)])\n",
    "\n",
    "    # Set limits\n",
    "    plt.ylim([0, 1])\n",
    "    plt.xlim([0, 1])\n",
    "    \n",
    "    # Labels\n",
    "    plt.ylabel(\"Entropy\")\n",
    "    plt.xlabel(\"Probability\")\n",
    "    \n",
    "    # If labels are provided, plot some text\n",
    "    if labels:\n",
    "        props = dict(boxstyle='round', facecolor='wheat', alpha=0.5)\n",
    "        for i, lab in enumerate(labels):\n",
    "            # Plot text\n",
    "            plt.text(positions[i], 0.1, lab, fontsize=14, verticalalignment='top', bbox=props)\n"
   ]
  },
  {
   "cell_type": "code",
   "execution_count": 27,
   "metadata": {},
   "outputs": [
    {
     "data": {
      "image/png": "[encoded data removed]",
      "text/plain": [
       "<matplotlib.figure.Figure at 0x7fe77cc63550>"
      ]
     },
     "metadata": {},
     "output_type": "display_data"
    }
   ],
   "source": [
    "# Plot for \"cap-shape\" feature\n",
    "feature = X[\"cap-shape\"]\n",
    "# Calculate probabilities and entropies\n",
    "probs = class_probability(feature, y)\n",
    "ents = class_entropy(feature, y)\n",
    "labels = set(feature)\n",
    "plot_entropy(probs, ents, labels)\n",
    "plt.show() # You must run `plt.show()` at the end to show your plot."
   ]
  },
  {
   "cell_type": "markdown",
   "metadata": {},
   "source": [
    "We are plotting the entropy on the y-axis and the proportion of the dataset included when performing that split on the x-axis.\n",
    "\n",
    "This plot works well for categorical features.\n",
    "\n",
    "The total entropy of this split is the area that is covered by all of the bars.\n",
    "\n",
    "We can see that there isn't much whitespace; i.e. not much information gain."
   ]
  },
  {
   "cell_type": "code",
   "execution_count": 28,
   "metadata": {},
   "outputs": [
    {
     "data": {
      "image/png": "[encoded data removed]",
      "text/plain": [
       "<matplotlib.figure.Figure at 0x7fe7a702f128>"
      ]
     },
     "metadata": {},
     "output_type": "display_data"
    }
   ],
   "source": [
    "# Plot for \"odor\" feature\n",
    "feature = X[\"odor\"]\n",
    "probs = class_probability(feature, y)\n",
    "ents = class_entropy(feature, y)\n",
    "labels = set(feature)\n",
    "plot_entropy(probs, ents, labels)\n",
    "plt.show()"
   ]
  },
  {
   "cell_type": "markdown",
   "metadata": {},
   "source": [
    "This time there is lots of whitespace. The total area is very small.\n",
    "\n",
    "The propotionate entropy is visibly smaller.\n",
    "\n",
    "## Tasks\n",
    "\n",
    "- Which is the better feature to use, `gill-size` or `veil-color`?"
   ]
  },
  {
   "cell_type": "markdown",
   "metadata": {},
   "source": [
    "## Categorical Decision Trees in SKLearn\n",
    "\n",
    "Surprisingly, there are still no categorical decision tree implementations in sklearn. You can read more about one proposal [here](https://github.com/scikit-learn/scikit-learn/pull/4899).\n",
    "\n",
    "So instead, if you wanted to use sklearn, you would have to one-hot encode the categories (which we haven't learnt yet)."
   ]
  },
  {
   "cell_type": "code",
   "execution_count": null,
   "metadata": {},
   "outputs": [],
   "source": []
  }
 ],
 "metadata": {
  "kernelspec": {
   "display_name": "Python 3",
   "language": "python",
   "name": "python3"
  },
  "language_info": {
   "codemirror_mode": {
    "name": "ipython",
    "version": 3
   },
   "file_extension": ".py",
   "mimetype": "text/x-python",
   "name": "python",
   "nbconvert_exporter": "python",
   "pygments_lexer": "ipython3",
   "version": "3.6.7"
  }
 },
 "nbformat": 4,
 "nbformat_minor": 1
}
